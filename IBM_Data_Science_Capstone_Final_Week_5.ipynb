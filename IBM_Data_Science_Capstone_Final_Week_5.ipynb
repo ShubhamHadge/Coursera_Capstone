{
  "nbformat": 4,
  "nbformat_minor": 0,
  "metadata": {
    "colab": {
      "name": "IBM Data Science Capstone Final Week 5",
      "provenance": [],
      "authorship_tag": "ABX9TyPxu1OQXEITiXmU6dDvDGJK",
      "include_colab_link": true
    },
    "kernelspec": {
      "name": "python3",
      "display_name": "Python 3"
    }
  },
  "cells": [
    {
      "cell_type": "markdown",
      "metadata": {
        "id": "view-in-github",
        "colab_type": "text"
      },
      "source": [
        "<a href=\"https://colab.research.google.com/github/ShubhamHadge/Coursera_Capstone/blob/master/IBM_Data_Science_Capstone_Final_Week_5.ipynb\" target=\"_parent\"><img src=\"https://colab.research.google.com/assets/colab-badge.svg\" alt=\"Open In Colab\"/></a>"
      ]
    },
    {
      "cell_type": "markdown",
      "metadata": {
        "id": "zvlhzur_XJM9",
        "colab_type": "text"
      },
      "source": [
        "**Final Report | Capstone Project – The Battle of Neighborhoods Finding a Better Place in Scarborough, Toronto**"
      ]
    },
    {
      "cell_type": "markdown",
      "metadata": {
        "id": "TrLJFoeZXM7e",
        "colab_type": "text"
      },
      "source": [
        "**1. Introduction:**"
      ]
    },
    {
      "cell_type": "markdown",
      "metadata": {
        "id": "e1tzJHKlXM-X",
        "colab_type": "text"
      },
      "source": [
        "The purpose of this Project is to help people in exploring better facilities around their neighborhood. It will help people making smart and efficient decision on selecting great neighborhood out of numbers of other neighborhoods in Scarborough, Toranto.\n",
        "\n",
        "Lots of people are migrating to various states of Canada and needed lots of research for good housing prices and reputated schools for their children. This project is for those people who are looking for better neighborhoods. For ease of accessing to Cafe, School, Super market, medical shops, grocery shops, mall, theatre, hospital, like minded people, etc.\n",
        "\n",
        "This Project aim to create an analysis of features for a people migrating to Scarborough to search a best neighborhood as a comparative analysis between neighborhoods. The features include median housing price and better school according to ratings, crime rates of that particular area, road connectivity, weather conditions, good management for emergency, water resources both freash and waste water and excrement conveyed in sewers and recreational facilities.\n",
        "\n",
        "It will help people to get awareness of the area and neighborhood before moving to a new city, state, country or place for their work or to start a new fresh life.\n",
        "\n"
      ]
    },
    {
      "cell_type": "markdown",
      "metadata": {
        "id": "RVzksoatXNFc",
        "colab_type": "text"
      },
      "source": [
        "**2. Data Section**"
      ]
    },
    {
      "cell_type": "markdown",
      "metadata": {
        "id": "QMVm_4ZKXNJO",
        "colab_type": "text"
      },
      "source": [
        "Data Link: https://en.wikipedia.org/wiki/List_of_postal_codes_of_Canada:_M\n",
        "\n",
        "Will use Scarborough dataset which we scrapped from wikipedia on Week 3. Dataset consisting of latitude and longitude, zip codes."
      ]
    },
    {
      "cell_type": "markdown",
      "metadata": {
        "id": "dt756qWZXags",
        "colab_type": "text"
      },
      "source": [
        "**Foursquare API Data:**"
      ]
    },
    {
      "cell_type": "markdown",
      "metadata": {
        "id": "Br2hWuGqXaej",
        "colab_type": "text"
      },
      "source": [
        "We will need data about different venues in different neighborhoods of that specific borough. In order to gain that information we will use \"Foursquare\" locational information. Foursquare is a location data provider with information about all manner of venues and events within an area of interest. Such information includes venue names, locations, menus and even photos. As such, the foursquare location platform will be used as the sole data source since all the stated required information can be obtained through the API.\n",
        "\n",
        "After finding the list of neighborhoods, we then connect to the Foursquare API to gather information about venues inside each and every neighborhood. For each neighborhood, we have chosen the radius to be 100 meter.\n",
        "\n",
        "The data retrieved from Foursquare contained information of venues within a specified distance of the longitude and latitude of the postcodes. The information obtained per venue as follows:\n",
        "\n",
        "1. Neighborhood\n",
        "2. Neighborhood Latitude\n",
        "3. Neighborhood Longitude\n",
        "4. Venue\n",
        "5. Name of the venue e.g. the name of a store or restaurant\n",
        "6. Venue Latitude\n",
        "7. Venue Longitude\n",
        "8. Venue Category\n"
      ]
    },
    {
      "cell_type": "markdown",
      "metadata": {
        "id": "Dn7PEuIIXNMh",
        "colab_type": "text"
      },
      "source": [
        "**Map of Scarborough**"
      ]
    },
    {
      "cell_type": "markdown",
      "metadata": {
        "id": "t56VjEQ1XNDC",
        "colab_type": "text"
      },
      "source": [
        "**3. Methodology Section\n",
        "Clustering Approach:**"
      ]
    },
    {
      "cell_type": "markdown",
      "metadata": {
        "id": "RXrZPn8DXNBN",
        "colab_type": "text"
      },
      "source": [
        "To compare the similarities of two cities, we decided to explore neighborhoods, segment them, and group them into clusters to find similar neighborhoods in a big city like New York and Toronto. To be able to do that, we need to cluster data which is a form of unsupervised machine learning: k-means clustering algorithm."
      ]
    },
    {
      "cell_type": "markdown",
      "metadata": {
        "id": "-Zq08xMqXy_I",
        "colab_type": "text"
      },
      "source": [
        "Using K-Means Clustering Approach"
      ]
    },
    {
      "cell_type": "markdown",
      "metadata": {
        "id": "MR0aRpTMXzCB",
        "colab_type": "text"
      },
      "source": [
        "Most Common venues near Neighborhood"
      ]
    },
    {
      "cell_type": "markdown",
      "metadata": {
        "id": "tG5kLoRUXzEp",
        "colab_type": "text"
      },
      "source": [
        "**Work Flow:**\n",
        "Using credentials of Foursquare API features of near-by places of the neighborhoods would be mined. Due to http request limitations the number of places per neighborhood parameter would reasonably be set to 100 and the radius parameter would be set to 500."
      ]
    },
    {
      "cell_type": "markdown",
      "metadata": {
        "id": "kN5Gtx8nXzJ-",
        "colab_type": "text"
      },
      "source": [
        "**4. Results Section**"
      ]
    },
    {
      "cell_type": "markdown",
      "metadata": {
        "id": "NhTkyH4HXzNH",
        "colab_type": "text"
      },
      "source": [
        "**Map of Clusters in Scarborough\n",
        "\n",
        "Map%20of%20Clusters%20Scarborough.png\n",
        "\n",
        "Average Housing Price by Clusters in Scarborough\n",
        "\n",
        "Average%20Housing%20Price.png\n",
        "\n",
        "School Ratings by Clusters in Scarborough\n",
        "\n",
        "School%20Ratings%20by%20Clusters.png\n",
        "\n",
        "The Location:**"
      ]
    },
    {
      "cell_type": "markdown",
      "metadata": {
        "id": "y8W5c-zOYGDr",
        "colab_type": "text"
      },
      "source": [
        "Scarborough is a popular destination for new immigrants in Canada to reside. As a result, it is one of the most diverse and multicultural areas in the Greater Toronto Area, being home to various religious groups and places of worship. Although immigration has become a hot topic over the past few years with more governments seeking more restrictions on immigrants and refugees, the general trend of immigration into Canada has been one of on the rise.\n",
        "\n",
        "**Foursquare API:**\n",
        "This project have used Four-square API as its prime data gathering source as it has a database of millions of places, especially their places API which provides the ability to perform location search, location sharing and details about a business."
      ]
    },
    {
      "cell_type": "markdown",
      "metadata": {
        "id": "6OnP4-0nYGHJ",
        "colab_type": "text"
      },
      "source": [
        "**5. Discussion Section**"
      ]
    },
    {
      "cell_type": "markdown",
      "metadata": {
        "id": "318y7vFqYGK1",
        "colab_type": "text"
      },
      "source": [
        "Problem Which Tried to Solve:\n",
        "The major purpose of this project, is to suggest a better neighborhood in a new city for the person who are shiffting there. Social presence in society in terms of like minded people. Connectivity to the airport, bus stand, city center, markets and other daily needs things nearby.\n",
        "\n",
        "Sorted list of house in terms of housing prices in a ascending or descending order\n",
        "Sorted list of schools in terms of location, fees, rating and reviews"
      ]
    },
    {
      "cell_type": "markdown",
      "metadata": {
        "id": "OKko_8TVYVz4",
        "colab_type": "text"
      },
      "source": [
        "**6. Conclusion Section**"
      ]
    },
    {
      "cell_type": "markdown",
      "metadata": {
        "id": "kNXj7HqTYV3Q",
        "colab_type": "text"
      },
      "source": [
        "In this project, using k-means cluster algorithm I separated the neighborhood into 10(Ten) different clusters and for 103 different lattitude and logitude from dataset, which have very-similar neighborhoods around them. Using the charts above results presented to a particular neighborhood based on average house prices and school rating have been made.\n",
        "\n",
        "I feel rewarded with the efforts and believe this course with all the topics covered is well worthy of appreciation. This project has shown me a practical application to resolve a real situation that has impacting personal and financial impact using Data Science tools. The mapping with Folium is a very powerful technique to consolidate information and make the analysis and decision better with confidence.\n",
        "\n",
        "Future Works:\n",
        "This project can be continued for making it more precise in terms to find best house in Scarborough. Best means on the basis of all required things(daily needs or things we need to live a better life) around and also in terms of cost effective."
      ]
    },
    {
      "cell_type": "markdown",
      "metadata": {
        "id": "HWKiFVY7YV66",
        "colab_type": "text"
      },
      "source": [
        "**Libraries Which are Used to Develope the Project:**\n",
        "Pandas: For creating and manipulating dataframes.\n",
        "\n",
        "Folium: Python visualization library would be used to visualize the neighborhoods cluster distribution of using interactive leaflet map.\n",
        "\n",
        "Scikit Learn: For importing k-means clustering.\n",
        "\n",
        "JSON: Library to handle JSON files.\n",
        "\n",
        "XML: To separate data from presentation and XML stores data in plain text format.\n",
        "\n",
        "Geocoder: To retrieve Location Data.\n",
        "\n",
        "Beautiful Soup and Requests: To scrap and library to handle http requests.\n",
        "\n",
        "Matplotlib: Python Plotting Module."
      ]
    },
    {
      "cell_type": "code",
      "metadata": {
        "id": "yI26QboeYlzT",
        "colab_type": "code",
        "colab": {}
      },
      "source": [
        ""
      ],
      "execution_count": null,
      "outputs": []
    }
  ]
}